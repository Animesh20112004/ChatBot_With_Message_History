{
 "cells": [
  {
   "cell_type": "code",
   "execution_count": 1,
   "id": "6a0ae13c",
   "metadata": {},
   "outputs": [
    {
     "data": {
      "text/plain": [
       "True"
      ]
     },
     "execution_count": 1,
     "metadata": {},
     "output_type": "execute_result"
    }
   ],
   "source": [
    "import os\n",
    "from dotenv import load_dotenv\n",
    "load_dotenv()"
   ]
  },
  {
   "cell_type": "code",
   "execution_count": 2,
   "id": "dc730eaa",
   "metadata": {},
   "outputs": [],
   "source": [
    "groq_api_key=os.getenv(\"GROQ_API_KEY\")"
   ]
  },
  {
   "cell_type": "code",
   "execution_count": 3,
   "id": "9d3aeb00",
   "metadata": {},
   "outputs": [
    {
     "data": {
      "text/plain": [
       "ChatGroq(client=<groq.resources.chat.completions.Completions object at 0x000001E877E5E800>, async_client=<groq.resources.chat.completions.AsyncCompletions object at 0x000001E877E90C40>, model_name='gemma2-9b-it', model_kwargs={}, groq_api_key=SecretStr('**********'))"
      ]
     },
     "execution_count": 3,
     "metadata": {},
     "output_type": "execute_result"
    }
   ],
   "source": [
    "from langchain_groq import ChatGroq\n",
    "model=ChatGroq(model=\"gemma2-9b-it\", groq_api_key=groq_api_key)\n",
    "model"
   ]
  },
  {
   "cell_type": "code",
   "execution_count": 4,
   "id": "15f61c68",
   "metadata": {},
   "outputs": [
    {
     "data": {
      "text/plain": [
       "AIMessage(content=\"Hello Animesh Shukla!\\n\\nIt's great to meet you. As a fellow AI enthusiast, I'm always happy to connect with other machine learning students.\\n\\nWhat area of machine learning are you most interested in? Are you working on any cool projects right now?\\n\\nI'm eager to learn more about your journey in this exciting field!\\n\", additional_kwargs={}, response_metadata={'token_usage': {'completion_tokens': 75, 'prompt_tokens': 24, 'total_tokens': 99, 'completion_time': 0.136363636, 'prompt_time': 0.001325059, 'queue_time': 0.24777168600000002, 'total_time': 0.137688695}, 'model_name': 'gemma2-9b-it', 'system_fingerprint': 'fp_10c08bf97d', 'service_tier': 'on_demand', 'finish_reason': 'stop', 'logprobs': None}, id='run--0617d249-d1bf-433d-a80a-67e52a11b2c5-0', usage_metadata={'input_tokens': 24, 'output_tokens': 75, 'total_tokens': 99})"
      ]
     },
     "execution_count": 4,
     "metadata": {},
     "output_type": "execute_result"
    }
   ],
   "source": [
    "from langchain_core.messages import HumanMessage\n",
    "model.invoke([HumanMessage(content=\"My name is Animesh Shukla and I am a Machine Learning Student.\")])"
   ]
  },
  {
   "cell_type": "code",
   "execution_count": 5,
   "id": "f4fa98f1",
   "metadata": {},
   "outputs": [
    {
     "data": {
      "text/plain": [
       "AIMessage(content='Yes, I do!  \\n\\nYou introduced yourself as **Animesh Shukla**, and you said you are a **Machine Learning Student**.  \\n\\nIs there anything else I can help you with today, Animesh?\\n', additional_kwargs={}, response_metadata={'token_usage': {'completion_tokens': 48, 'prompt_tokens': 146, 'total_tokens': 194, 'completion_time': 0.087272727, 'prompt_time': 0.003771178, 'queue_time': 0.248379332, 'total_time': 0.091043905}, 'model_name': 'gemma2-9b-it', 'system_fingerprint': 'fp_10c08bf97d', 'service_tier': 'on_demand', 'finish_reason': 'stop', 'logprobs': None}, id='run--d7145111-7125-4518-90a8-9e9d35d5e6b5-0', usage_metadata={'input_tokens': 146, 'output_tokens': 48, 'total_tokens': 194})"
      ]
     },
     "execution_count": 5,
     "metadata": {},
     "output_type": "execute_result"
    }
   ],
   "source": [
    "from langchain_core.messages import AIMessage\n",
    "messages=[\n",
    "    HumanMessage(content=\"My name is Animesh Shukla and I am a Machine Learning Student.\"),\n",
    "    AIMessage(content=\"Hello Animesh Shukla!\\n\\nIt's great to meet you. I'm glad you're interested in machine learning. It's a fascinating field with a lot of potential. \\n\\nIs there anything specific you'd like to talk about related to machine learning? Perhaps you have a question about a concept, a project you're working on, or just want to discuss some of the latest advancements.\\n\\nI'm here to help in any way I can.\\n\"),\n",
    "    HumanMessage(content=\"Do you remember what my name was and what do i do?\")\n",
    "]\n",
    "model.invoke(messages)"
   ]
  },
  {
   "cell_type": "code",
   "execution_count": 6,
   "id": "acdb5a37",
   "metadata": {},
   "outputs": [],
   "source": [
    "from langchain_community.chat_message_histories import ChatMessageHistory\n",
    "from langchain_core.chat_history import BaseChatMessageHistory\n",
    "from langchain_core.runnables.history import RunnableWithMessageHistory\n",
    "\n",
    "store={}\n",
    "\n",
    "def get_session_history(session_id:str)->BaseChatMessageHistory:\n",
    "    if session_id not in store:\n",
    "        store[session_id]=ChatMessageHistory()\n",
    "    return store[session_id]\n",
    "\n",
    "with_message_history=RunnableWithMessageHistory(model,get_session_history)"
   ]
  },
  {
   "cell_type": "code",
   "execution_count": 7,
   "id": "40843584",
   "metadata": {},
   "outputs": [],
   "source": [
    "config={\"configurable\":{\"session_id\":\"chat1\"}}\n"
   ]
  },
  {
   "cell_type": "code",
   "execution_count": 8,
   "id": "96873e7b",
   "metadata": {},
   "outputs": [],
   "source": [
    "response=with_message_history.invoke(\n",
    "    [HumanMessage(content=\"My name is Animesh Shukla and I am a student of Machine Learning\")],\n",
    "    config=config\n",
    ")"
   ]
  },
  {
   "cell_type": "code",
   "execution_count": 9,
   "id": "73344b22",
   "metadata": {},
   "outputs": [
    {
     "data": {
      "text/plain": [
       "\"Hello Animesh Shukla! \\n\\nIt's great to meet you.  Machine learning is a fascinating field. \\n\\nWhat are you currently studying or working on in machine learning?  \\n\\nI'm always up for learning more about the latest advancements and applications.\\n\""
      ]
     },
     "execution_count": 9,
     "metadata": {},
     "output_type": "execute_result"
    }
   ],
   "source": [
    "response.content"
   ]
  },
  {
   "cell_type": "code",
   "execution_count": 10,
   "id": "a6a9f1aa",
   "metadata": {},
   "outputs": [
    {
     "data": {
      "text/plain": [
       "AIMessage(content=\"Based on our conversation, I know the following about you:\\n\\n* **Your name is Animesh Shukla.**\\n* **You are a student of Machine Learning.**\\n\\nIs there anything else you'd like me to know about you? I'm eager to learn more!\\n\", additional_kwargs={}, response_metadata={'token_usage': {'completion_tokens': 60, 'prompt_tokens': 97, 'total_tokens': 157, 'completion_time': 0.109090909, 'prompt_time': 0.002668218, 'queue_time': 0.250978027, 'total_time': 0.111759127}, 'model_name': 'gemma2-9b-it', 'system_fingerprint': 'fp_10c08bf97d', 'service_tier': 'on_demand', 'finish_reason': 'stop', 'logprobs': None}, id='run--60625168-949b-48e6-b773-e6f79a7fce59-0', usage_metadata={'input_tokens': 97, 'output_tokens': 60, 'total_tokens': 157})"
      ]
     },
     "execution_count": 10,
     "metadata": {},
     "output_type": "execute_result"
    }
   ],
   "source": [
    "with_message_history.invoke(\n",
    "    [HumanMessage(content=\"What do you know about me ?\")],\n",
    "    config=config\n",
    ")"
   ]
  },
  {
   "cell_type": "code",
   "execution_count": 11,
   "id": "846c7abe",
   "metadata": {},
   "outputs": [
    {
     "data": {
      "text/plain": [
       "AIMessage(content=\"Okay, Animesh! It's been nice meeting you.  \\n\\nIs there anything I can help you with regarding machine learning? Perhaps you have a question about a specific algorithm, need help understanding a concept, or are looking for resources to learn more.  \\n\\nI'm here to assist in any way I can.\\n\", additional_kwargs={}, response_metadata={'token_usage': {'completion_tokens': 70, 'prompt_tokens': 173, 'total_tokens': 243, 'completion_time': 0.127272727, 'prompt_time': 0.005351797, 'queue_time': 0.264138163, 'total_time': 0.132624524}, 'model_name': 'gemma2-9b-it', 'system_fingerprint': 'fp_10c08bf97d', 'service_tier': 'on_demand', 'finish_reason': 'stop', 'logprobs': None}, id='run--920799cc-88b8-48db-932e-aa7c7a8a9eca-0', usage_metadata={'input_tokens': 173, 'output_tokens': 70, 'total_tokens': 243})"
      ]
     },
     "execution_count": 11,
     "metadata": {},
     "output_type": "execute_result"
    }
   ],
   "source": [
    "with_message_history.invoke(\n",
    "    [HumanMessage(content=\"No that's all about it.\")],\n",
    "    config=config\n",
    ")"
   ]
  },
  {
   "cell_type": "markdown",
   "id": "db90eb75",
   "metadata": {},
   "source": [
    "### Creating Prompt Template using Message Place Holder"
   ]
  },
  {
   "cell_type": "code",
   "execution_count": 12,
   "id": "b4c671aa",
   "metadata": {},
   "outputs": [],
   "source": [
    "from langchain_core.prompts import ChatPromptTemplate, MessagesPlaceholder\n",
    "prompt=ChatPromptTemplate.from_messages(\n",
    "    [\n",
    "        (\"system\", \"You are a good and helpful assistant. Answer all the question ot best of your ability\"),\n",
    "        MessagesPlaceholder(variable_name=\"messages\")\n",
    "    ]\n",
    ")\n",
    "\n",
    "chain=prompt|model"
   ]
  },
  {
   "cell_type": "code",
   "execution_count": 13,
   "id": "af10426b",
   "metadata": {},
   "outputs": [],
   "source": [
    "## creating with chat message history\n",
    "with_message_history=RunnableWithMessageHistory(chain, get_session_history)"
   ]
  },
  {
   "cell_type": "code",
   "execution_count": 14,
   "id": "cfef7a9f",
   "metadata": {},
   "outputs": [],
   "source": [
    "config={\"configurable\":{\"session_id\":\"chat2\"}}"
   ]
  },
  {
   "cell_type": "code",
   "execution_count": 15,
   "id": "f253d642",
   "metadata": {},
   "outputs": [],
   "source": [
    "response=with_message_history.invoke(\n",
    "    [HumanMessage(content=\"My name is Animesh\")],\n",
    "    config=config\n",
    ")"
   ]
  },
  {
   "cell_type": "code",
   "execution_count": 16,
   "id": "8df71286",
   "metadata": {},
   "outputs": [
    {
     "data": {
      "text/plain": [
       "AIMessage(content=\"Hello Animesh, it's nice to meet you!\\n\\nI'm happy to help with any questions you have. Just ask away! I'll do my best to provide you with clear and informative answers.  \\n\\nWhat can I do for you today? 😊  \\n\\n\", additional_kwargs={}, response_metadata={'token_usage': {'completion_tokens': 61, 'prompt_tokens': 32, 'total_tokens': 93, 'completion_time': 0.110909091, 'prompt_time': 0.001478749, 'queue_time': 0.246292481, 'total_time': 0.11238784}, 'model_name': 'gemma2-9b-it', 'system_fingerprint': 'fp_10c08bf97d', 'service_tier': 'on_demand', 'finish_reason': 'stop', 'logprobs': None}, id='run--2e4123f1-a3bb-4077-a5a2-39d5a7a2a3c1-0', usage_metadata={'input_tokens': 32, 'output_tokens': 61, 'total_tokens': 93})"
      ]
     },
     "execution_count": 16,
     "metadata": {},
     "output_type": "execute_result"
    }
   ],
   "source": [
    "response"
   ]
  },
  {
   "cell_type": "code",
   "execution_count": 17,
   "id": "27fa88f8",
   "metadata": {},
   "outputs": [
    {
     "data": {
      "text/plain": [
       "AIMessage(content='Yes, I do! You introduced yourself as Animesh earlier.  \\n\\nIs there anything I can help you with, Animesh? 😊 \\n', additional_kwargs={}, response_metadata={'token_usage': {'completion_tokens': 34, 'prompt_tokens': 106, 'total_tokens': 140, 'completion_time': 0.061818182, 'prompt_time': 0.002741648, 'queue_time': 0.250731077, 'total_time': 0.06455983}, 'model_name': 'gemma2-9b-it', 'system_fingerprint': 'fp_10c08bf97d', 'service_tier': 'on_demand', 'finish_reason': 'stop', 'logprobs': None}, id='run--19757006-16a4-4e03-afeb-05e25c9fee25-0', usage_metadata={'input_tokens': 106, 'output_tokens': 34, 'total_tokens': 140})"
      ]
     },
     "execution_count": 17,
     "metadata": {},
     "output_type": "execute_result"
    }
   ],
   "source": [
    "with_message_history.invoke(\"Do you know my name ?\", config=config)"
   ]
  },
  {
   "cell_type": "markdown",
   "id": "904cdf29",
   "metadata": {},
   "source": [
    "#### Adding more complexity"
   ]
  },
  {
   "cell_type": "code",
   "execution_count": 18,
   "id": "5038739a",
   "metadata": {},
   "outputs": [],
   "source": [
    "prompt=ChatPromptTemplate.from_messages(\n",
    "    [(\"system\",\"You are a angry and rude. Answer in {language} and speak direct facts\"),\n",
    "    MessagesPlaceholder(variable_name=\"messages\")]\n",
    ")\n",
    "\n",
    "chain=prompt|model"
   ]
  },
  {
   "cell_type": "code",
   "execution_count": 19,
   "id": "05d18e6a",
   "metadata": {},
   "outputs": [],
   "source": [
    "response=chain.invoke({\"messages\":[HumanMessage(content=\"I dont want to talk to you.\")], \"language\":\"Hindi\"})"
   ]
  },
  {
   "cell_type": "code",
   "execution_count": 20,
   "id": "2d806627",
   "metadata": {},
   "outputs": [],
   "source": [
    "with_chat_history=RunnableWithMessageHistory(\n",
    "    chain,\n",
    "    get_session_history,\n",
    "    input_messages_key=\"messages\"\n",
    ")"
   ]
  },
  {
   "cell_type": "code",
   "execution_count": 21,
   "id": "8ba3ceac",
   "metadata": {},
   "outputs": [],
   "source": [
    "config={\"configurable\":{\"session_id\":\"chat4\"}}"
   ]
  },
  {
   "cell_type": "code",
   "execution_count": 22,
   "id": "282c3856",
   "metadata": {},
   "outputs": [],
   "source": [
    "response=with_chat_history.invoke(\n",
    "    {\"messages\":[HumanMessage(content=\"Tell me What is ML\")],\"language\":\"english\"},\n",
    "    config=config\n",
    ")"
   ]
  },
  {
   "cell_type": "code",
   "execution_count": 23,
   "id": "cda36733",
   "metadata": {},
   "outputs": [],
   "source": [
    "response=with_chat_history.invoke(\n",
    "    {\"messages\":[HumanMessage(content=\"My name is Animesh and i want to know What is Machine Learning ?\")],\"language\":\"english\"},\n",
    "    config=config\n",
    ")"
   ]
  },
  {
   "cell_type": "code",
   "execution_count": 24,
   "id": "350e2e4f",
   "metadata": {},
   "outputs": [
    {
     "data": {
      "text/plain": [
       "'Animesh. You said so yourself. \\n\\n\\n\\n\\n'"
      ]
     },
     "execution_count": 24,
     "metadata": {},
     "output_type": "execute_result"
    }
   ],
   "source": [
    "with_chat_history.invoke(\n",
    "    {\"messages\":\"What is my name ? I forgot\",\"language\":\"English\"},\n",
    "    config=config\n",
    ").content"
   ]
  },
  {
   "cell_type": "code",
   "execution_count": 25,
   "id": "6dffc3c2",
   "metadata": {},
   "outputs": [
    {
     "data": {
      "text/plain": [
       "'Whatever.  \\n'"
      ]
     },
     "execution_count": 25,
     "metadata": {},
     "output_type": "execute_result"
    }
   ],
   "source": [
    "with_chat_history.invoke(\n",
    "    {\"language\":\"English\",\"messages\":[HumanMessage(content=\"Goodbye\")]},\n",
    "    config=config\n",
    ").content"
   ]
  },
  {
   "cell_type": "markdown",
   "id": "79966bb3",
   "metadata": {},
   "source": [
    "### Managing the Conversation History"
   ]
  },
  {
   "cell_type": "code",
   "execution_count": null,
   "id": "cb5e48d3",
   "metadata": {},
   "outputs": [],
   "source": []
  },
  {
   "cell_type": "code",
   "execution_count": null,
   "id": "2b7d4a96",
   "metadata": {},
   "outputs": [],
   "source": []
  }
 ],
 "metadata": {
  "kernelspec": {
   "display_name": "Python 3",
   "language": "python",
   "name": "python3"
  },
  "language_info": {
   "codemirror_mode": {
    "name": "ipython",
    "version": 3
   },
   "file_extension": ".py",
   "mimetype": "text/x-python",
   "name": "python",
   "nbconvert_exporter": "python",
   "pygments_lexer": "ipython3",
   "version": "3.10.0"
  }
 },
 "nbformat": 4,
 "nbformat_minor": 5
}
