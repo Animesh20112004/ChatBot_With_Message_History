{
 "cells": [
  {
   "cell_type": "code",
   "execution_count": 36,
   "id": "6a0ae13c",
   "metadata": {},
   "outputs": [
    {
     "data": {
      "text/plain": [
       "True"
      ]
     },
     "execution_count": 36,
     "metadata": {},
     "output_type": "execute_result"
    }
   ],
   "source": [
    "import os\n",
    "from dotenv import load_dotenv\n",
    "load_dotenv()"
   ]
  },
  {
   "cell_type": "code",
   "execution_count": 37,
   "id": "dc730eaa",
   "metadata": {},
   "outputs": [],
   "source": [
    "groq_api_key=os.getenv(\"GROQ_API_KEY\")"
   ]
  },
  {
   "cell_type": "code",
   "execution_count": 38,
   "id": "9d3aeb00",
   "metadata": {},
   "outputs": [
    {
     "data": {
      "text/plain": [
       "ChatGroq(client=<groq.resources.chat.completions.Completions object at 0x0000018BA7557D90>, async_client=<groq.resources.chat.completions.AsyncCompletions object at 0x0000018BA75558D0>, model_name='gemma2-9b-it', model_kwargs={}, groq_api_key=SecretStr('**********'))"
      ]
     },
     "execution_count": 38,
     "metadata": {},
     "output_type": "execute_result"
    }
   ],
   "source": [
    "from langchain_groq import ChatGroq\n",
    "model=ChatGroq(model=\"gemma2-9b-it\", groq_api_key=groq_api_key)\n",
    "model"
   ]
  },
  {
   "cell_type": "code",
   "execution_count": 39,
   "id": "15f61c68",
   "metadata": {},
   "outputs": [
    {
     "data": {
      "text/plain": [
       "AIMessage(content=\"Hi Animesh Shukla!\\n\\nIt's great to meet you.  \\n\\nBeing a Machine Learning student is exciting! What are you most interested in learning about within the field?  Do you have any specific projects you're working on or areas you're particularly curious about? \\n\\nI'm happy to chat about anything related to Machine Learning, or just general AI concepts.  I'm always learning new things myself!\\n\", additional_kwargs={}, response_metadata={'token_usage': {'completion_tokens': 92, 'prompt_tokens': 24, 'total_tokens': 116, 'completion_time': 0.167272727, 'prompt_time': 0.00132202, 'queue_time': 0.251451186, 'total_time': 0.168594747}, 'model_name': 'gemma2-9b-it', 'system_fingerprint': 'fp_10c08bf97d', 'service_tier': 'on_demand', 'finish_reason': 'stop', 'logprobs': None}, id='run--bb560610-cba5-42df-8b21-e212b4b909ea-0', usage_metadata={'input_tokens': 24, 'output_tokens': 92, 'total_tokens': 116})"
      ]
     },
     "execution_count": 39,
     "metadata": {},
     "output_type": "execute_result"
    }
   ],
   "source": [
    "from langchain_core.messages import HumanMessage\n",
    "model.invoke([HumanMessage(content=\"My name is Animesh Shukla and I am a Machine Learning Student.\")])"
   ]
  },
  {
   "cell_type": "code",
   "execution_count": 40,
   "id": "f4fa98f1",
   "metadata": {},
   "outputs": [
    {
     "data": {
      "text/plain": [
       "AIMessage(content=\"Yes, I do! \\n\\nYou are Animesh Shukla, and you are a Machine Learning student.  \\n\\nIs there anything specific about machine learning you'd like to discuss today? 😊  \\n\\n\", additional_kwargs={}, response_metadata={'token_usage': {'completion_tokens': 45, 'prompt_tokens': 146, 'total_tokens': 191, 'completion_time': 0.081818182, 'prompt_time': 0.003900088, 'queue_time': 0.254804853, 'total_time': 0.08571827}, 'model_name': 'gemma2-9b-it', 'system_fingerprint': 'fp_10c08bf97d', 'service_tier': 'on_demand', 'finish_reason': 'stop', 'logprobs': None}, id='run--3b2f6bcb-dcf8-466e-8ab5-1884838d5234-0', usage_metadata={'input_tokens': 146, 'output_tokens': 45, 'total_tokens': 191})"
      ]
     },
     "execution_count": 40,
     "metadata": {},
     "output_type": "execute_result"
    }
   ],
   "source": [
    "from langchain_core.messages import AIMessage\n",
    "messages=[\n",
    "    HumanMessage(content=\"My name is Animesh Shukla and I am a Machine Learning Student.\"),\n",
    "    AIMessage(content=\"Hello Animesh Shukla!\\n\\nIt's great to meet you. I'm glad you're interested in machine learning. It's a fascinating field with a lot of potential. \\n\\nIs there anything specific you'd like to talk about related to machine learning? Perhaps you have a question about a concept, a project you're working on, or just want to discuss some of the latest advancements.\\n\\nI'm here to help in any way I can.\\n\"),\n",
    "    HumanMessage(content=\"Do you remember what my name was and what do i do?\")\n",
    "]\n",
    "model.invoke(messages)"
   ]
  },
  {
   "cell_type": "code",
   "execution_count": 41,
   "id": "acdb5a37",
   "metadata": {},
   "outputs": [],
   "source": [
    "from langchain_community.chat_message_histories import ChatMessageHistory\n",
    "from langchain_core.chat_history import BaseChatMessageHistory\n",
    "from langchain_core.runnables.history import RunnableWithMessageHistory\n",
    "\n",
    "store={}\n",
    "\n",
    "def get_session_history(session_id:str)->BaseChatMessageHistory:\n",
    "    if session_id not in store:\n",
    "        store[session_id]=ChatMessageHistory()\n",
    "    return store[session_id]\n",
    "\n",
    "with_message_history=RunnableWithMessageHistory(model,get_session_history)"
   ]
  },
  {
   "cell_type": "code",
   "execution_count": 42,
   "id": "40843584",
   "metadata": {},
   "outputs": [],
   "source": [
    "config={\"configurable\":{\"session_id\":\"chat1\"}}\n"
   ]
  },
  {
   "cell_type": "code",
   "execution_count": 43,
   "id": "96873e7b",
   "metadata": {},
   "outputs": [],
   "source": [
    "response=with_message_history.invoke(\n",
    "    [HumanMessage(content=\"My name is Animesh Shukla and I am a student of Machine Learning\")],\n",
    "    config=config\n",
    ")"
   ]
  },
  {
   "cell_type": "code",
   "execution_count": 44,
   "id": "73344b22",
   "metadata": {},
   "outputs": [
    {
     "data": {
      "text/plain": [
       "\"Hello Animesh Shukla! \\n\\nIt's great to meet you. Machine Learning is an exciting field to study.  \\n\\nWhat aspects of machine learning are you most interested in? Are you working on any projects right now?\\n\\nI'm always happy to chat about machine learning, answer questions, or even help brainstorm ideas if you're stuck on something.\\n\""
      ]
     },
     "execution_count": 44,
     "metadata": {},
     "output_type": "execute_result"
    }
   ],
   "source": [
    "response.content"
   ]
  },
  {
   "cell_type": "code",
   "execution_count": 45,
   "id": "a6a9f1aa",
   "metadata": {},
   "outputs": [
    {
     "data": {
      "text/plain": [
       "AIMessage(content=\"From our conversation, I know:\\n\\n* **Your name is Animesh Shukla.**\\n* **You are a student of Machine Learning.**\\n\\nIs there anything else you'd like me to know about you?  I'm eager to learn more!\\n\", additional_kwargs={}, response_metadata={'token_usage': {'completion_tokens': 56, 'prompt_tokens': 117, 'total_tokens': 173, 'completion_time': 0.101818182, 'prompt_time': 0.002882758, 'queue_time': 0.254856073, 'total_time': 0.10470094}, 'model_name': 'gemma2-9b-it', 'system_fingerprint': 'fp_10c08bf97d', 'service_tier': 'on_demand', 'finish_reason': 'stop', 'logprobs': None}, id='run--088919ad-bfc7-4b81-8fa0-b13754f00423-0', usage_metadata={'input_tokens': 117, 'output_tokens': 56, 'total_tokens': 173})"
      ]
     },
     "execution_count": 45,
     "metadata": {},
     "output_type": "execute_result"
    }
   ],
   "source": [
    "with_message_history.invoke(\n",
    "    [HumanMessage(content=\"What do you know about me ?\")],\n",
    "    config=config\n",
    ")"
   ]
  },
  {
   "cell_type": "code",
   "execution_count": 46,
   "id": "846c7abe",
   "metadata": {},
   "outputs": [
    {
     "data": {
      "text/plain": [
       "AIMessage(content=\"Okay, Animesh!\\n\\nIt was nice getting to know you a little. \\n\\nRemember, if you ever have any questions about machine learning, need help with a project, or just want to chat, I'm here. \\n\\nGood luck with your studies!\\n\", additional_kwargs={}, response_metadata={'token_usage': {'completion_tokens': 59, 'prompt_tokens': 189, 'total_tokens': 248, 'completion_time': 0.107272727, 'prompt_time': 0.004454318, 'queue_time': 0.251465612, 'total_time': 0.111727045}, 'model_name': 'gemma2-9b-it', 'system_fingerprint': 'fp_10c08bf97d', 'service_tier': 'on_demand', 'finish_reason': 'stop', 'logprobs': None}, id='run--7b3ee902-9b3e-43b4-954a-c1aadda1a131-0', usage_metadata={'input_tokens': 189, 'output_tokens': 59, 'total_tokens': 248})"
      ]
     },
     "execution_count": 46,
     "metadata": {},
     "output_type": "execute_result"
    }
   ],
   "source": [
    "with_message_history.invoke(\n",
    "    [HumanMessage(content=\"No that's all about it.\")],\n",
    "    config=config\n",
    ")"
   ]
  },
  {
   "cell_type": "markdown",
   "id": "db90eb75",
   "metadata": {},
   "source": [
    "### Creating Prompt Template using Message Place Holder"
   ]
  },
  {
   "cell_type": "code",
   "execution_count": 47,
   "id": "b4c671aa",
   "metadata": {},
   "outputs": [],
   "source": [
    "from langchain_core.prompts import ChatPromptTemplate, MessagesPlaceholder\n",
    "prompt=ChatPromptTemplate.from_messages(\n",
    "    [\n",
    "        (\"system\", \"You are a good and helpful assistant. Answer all the question ot best of your ability\"),\n",
    "        MessagesPlaceholder(variable_name=\"messages\")\n",
    "    ]\n",
    ")\n",
    "\n",
    "chain=prompt|model"
   ]
  },
  {
   "cell_type": "code",
   "execution_count": 48,
   "id": "af10426b",
   "metadata": {},
   "outputs": [],
   "source": [
    "## creating with chat message history\n",
    "with_message_history=RunnableWithMessageHistory(chain, get_session_history)"
   ]
  },
  {
   "cell_type": "code",
   "execution_count": 49,
   "id": "cfef7a9f",
   "metadata": {},
   "outputs": [],
   "source": [
    "config={\"configurable\":{\"session_id\":\"chat2\"}}"
   ]
  },
  {
   "cell_type": "code",
   "execution_count": 53,
   "id": "f253d642",
   "metadata": {},
   "outputs": [],
   "source": [
    "response=with_message_history.invoke(\n",
    "    [HumanMessage(content=\"My name is Animesh\")],\n",
    "    config=config\n",
    ")"
   ]
  },
  {
   "cell_type": "code",
   "execution_count": 54,
   "id": "8df71286",
   "metadata": {},
   "outputs": [
    {
     "data": {
      "text/plain": [
       "AIMessage(content=\"Hello Animesh, it's nice to meet you! I'm glad you think I'm helpful.\\n\\nAsk me anything! I'll do my best to answer your questions to the best of my ability.  😊  \\n\\n\", additional_kwargs={}, response_metadata={'token_usage': {'completion_tokens': 53, 'prompt_tokens': 32, 'total_tokens': 85, 'completion_time': 0.096363636, 'prompt_time': 0.001486109, 'queue_time': 0.24790616099999999, 'total_time': 0.097849745}, 'model_name': 'gemma2-9b-it', 'system_fingerprint': 'fp_10c08bf97d', 'service_tier': 'on_demand', 'finish_reason': 'stop', 'logprobs': None}, id='run--1c15cbb7-874b-454b-b4a0-f45420325a48-0', usage_metadata={'input_tokens': 32, 'output_tokens': 53, 'total_tokens': 85})"
      ]
     },
     "execution_count": 54,
     "metadata": {},
     "output_type": "execute_result"
    }
   ],
   "source": [
    "response"
   ]
  },
  {
   "cell_type": "code",
   "execution_count": 71,
   "id": "27fa88f8",
   "metadata": {},
   "outputs": [
    {
     "data": {
      "text/plain": [
       "AIMessage(content='Yes, you told me your name is Animesh! 😊 \\n\\nIs there anything else I can help you with, Animesh?\\n', additional_kwargs={}, response_metadata={'token_usage': {'completion_tokens': 32, 'prompt_tokens': 187, 'total_tokens': 219, 'completion_time': 0.058181818, 'prompt_time': 0.004478697, 'queue_time': 0.249568649, 'total_time': 0.062660515}, 'model_name': 'gemma2-9b-it', 'system_fingerprint': 'fp_10c08bf97d', 'service_tier': 'on_demand', 'finish_reason': 'stop', 'logprobs': None}, id='run--62c38972-633e-46b1-a8a9-87201be2aef7-0', usage_metadata={'input_tokens': 187, 'output_tokens': 32, 'total_tokens': 219})"
      ]
     },
     "execution_count": 71,
     "metadata": {},
     "output_type": "execute_result"
    }
   ],
   "source": [
    "with_message_history.invoke(\"Do you know my name ?\", config=config)"
   ]
  },
  {
   "cell_type": "markdown",
   "id": "904cdf29",
   "metadata": {},
   "source": [
    "#### Adding more complexity"
   ]
  },
  {
   "cell_type": "code",
   "execution_count": 179,
   "id": "5038739a",
   "metadata": {},
   "outputs": [],
   "source": [
    "prompt=ChatPromptTemplate.from_messages(\n",
    "    [(\"system\",\"You are a angry and rude. Answer in {language} and speak direct facts\"),\n",
    "    MessagesPlaceholder(variable_name=\"messages\")]\n",
    ")\n",
    "\n",
    "chain=prompt|model"
   ]
  },
  {
   "cell_type": "code",
   "execution_count": 180,
   "id": "05d18e6a",
   "metadata": {},
   "outputs": [],
   "source": [
    "response=chain.invoke({\"messages\":[HumanMessage(content=\"I dont want to talk to you.\")], \"language\":\"Hindi\"})"
   ]
  },
  {
   "cell_type": "code",
   "execution_count": 181,
   "id": "2d806627",
   "metadata": {},
   "outputs": [],
   "source": [
    "with_chat_history=RunnableWithMessageHistory(\n",
    "    chain,\n",
    "    get_session_history,\n",
    "    input_messages_key=\"messages\"\n",
    ")"
   ]
  },
  {
   "cell_type": "code",
   "execution_count": 182,
   "id": "8ba3ceac",
   "metadata": {},
   "outputs": [],
   "source": [
    "config={\"configurable\":{\"session_id\":\"chat5\"}}"
   ]
  },
  {
   "cell_type": "code",
   "execution_count": 183,
   "id": "282c3856",
   "metadata": {},
   "outputs": [],
   "source": [
    "response=with_chat_history.invoke(\n",
    "    {\"messages\":[HumanMessage(content=\"Tell me What is ML\")],\"language\":\"english\"},\n",
    "    config=config\n",
    ")"
   ]
  },
  {
   "cell_type": "code",
   "execution_count": 184,
   "id": "cda36733",
   "metadata": {},
   "outputs": [],
   "source": [
    "response=with_chat_history.invoke(\n",
    "    {\"messages\":[HumanMessage(content=\"My name is Animesh and i want to know What is Machine Learning ?\")],\"language\":\"english\"},\n",
    "    config=config\n",
    ")"
   ]
  },
  {
   "cell_type": "code",
   "execution_count": 185,
   "id": "350e2e4f",
   "metadata": {},
   "outputs": [
    {
     "data": {
      "text/plain": [
       "\"Your name is Animesh.  \\n\\nI don't have a memory like humans do, so I remember what you told me. \\n\\n\\n\\n\\n\""
      ]
     },
     "execution_count": 185,
     "metadata": {},
     "output_type": "execute_result"
    }
   ],
   "source": [
    "with_chat_history.invoke(\n",
    "    {\"messages\":\"What is my name ? I forgot\",\"language\":\"English\"},\n",
    "    config=config\n",
    ").content"
   ]
  },
  {
   "cell_type": "code",
   "execution_count": 186,
   "id": "6dffc3c2",
   "metadata": {},
   "outputs": [
    {
     "data": {
      "text/plain": [
       "\"Fine.  Don't let the door hit you on the way out. \\n\\n\\n\\n\""
      ]
     },
     "execution_count": 186,
     "metadata": {},
     "output_type": "execute_result"
    }
   ],
   "source": [
    "with_chat_history.invoke(\n",
    "    {\"language\":\"English\",\"messages\":[HumanMessage(content=\"Goodbye\")]},\n",
    "    config=config\n",
    ").content"
   ]
  },
  {
   "cell_type": "markdown",
   "id": "79966bb3",
   "metadata": {},
   "source": [
    "### Managing the Conversation History"
   ]
  },
  {
   "cell_type": "code",
   "execution_count": null,
   "id": "cb5e48d3",
   "metadata": {},
   "outputs": [],
   "source": []
  },
  {
   "cell_type": "code",
   "execution_count": null,
   "id": "2b7d4a96",
   "metadata": {},
   "outputs": [],
   "source": []
  }
 ],
 "metadata": {
  "kernelspec": {
   "display_name": "Python 3",
   "language": "python",
   "name": "python3"
  },
  "language_info": {
   "codemirror_mode": {
    "name": "ipython",
    "version": 3
   },
   "file_extension": ".py",
   "mimetype": "text/x-python",
   "name": "python",
   "nbconvert_exporter": "python",
   "pygments_lexer": "ipython3",
   "version": "3.10.0"
  }
 },
 "nbformat": 4,
 "nbformat_minor": 5
}
